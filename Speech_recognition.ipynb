{
  "nbformat": 4,
  "nbformat_minor": 0,
  "metadata": {
    "colab": {
      "name": "Speech recognition.ipynb",
      "provenance": []
    },
    "kernelspec": {
      "name": "python3",
      "display_name": "Python 3"
    },
    "accelerator": "GPU"
  },
  "cells": [
    {
      "cell_type": "code",
      "metadata": {
        "id": "2wzuc6KfJbT3"
      },
      "source": [
        "import numpy as np\n",
        "import pandas as pd\n",
        "\n",
        "feat = np.load(\"/content/drive/My Drive/Colab Notebooks/Cópia de feat.npy\", allow_pickle = True)\n",
        "train = pd.read_csv(\"/content/drive/My Drive/Colab Notebooks/Cópia de train.csv\")[0:94823]\n",
        "path = np.load(\"/content/drive/My Drive/Colab Notebooks/Cópia de path.npy\")\n",
        "test= pd.read_csv('/content/drive/My Drive/Colab Notebooks/Cópia de test.csv')"
      ],
      "execution_count": 1,
      "outputs": []
    },
    {
      "cell_type": "code",
      "metadata": {
        "id": "-yZ-p2PXMeXO"
      },
      "source": [
        "# Index features to the corresponding words on the train file\n",
        "\n",
        "data = pd.DataFrame({'path':path, 'features':feat})\n",
        "combined =pd.merge(train,data, on=\"path\")\n"
      ],
      "execution_count": 104,
      "outputs": []
    },
    {
      "cell_type": "code",
      "metadata": {
        "id": "t5nrAJu4X-ar",
        "outputId": "c728a7f1-384d-4b8f-dacf-63201d746e16",
        "colab": {
          "base_uri": "https://localhost:8080/",
          "height": 191
        }
      },
      "source": [
        "combined.head(5)"
      ],
      "execution_count": 105,
      "outputs": [
        {
          "output_type": "execute_result",
          "data": {
            "text/html": [
              "<div>\n",
              "<style scoped>\n",
              "    .dataframe tbody tr th:only-of-type {\n",
              "        vertical-align: middle;\n",
              "    }\n",
              "\n",
              "    .dataframe tbody tr th {\n",
              "        vertical-align: top;\n",
              "    }\n",
              "\n",
              "    .dataframe thead th {\n",
              "        text-align: right;\n",
              "    }\n",
              "</style>\n",
              "<table border=\"1\" class=\"dataframe\">\n",
              "  <thead>\n",
              "    <tr style=\"text-align: right;\">\n",
              "      <th></th>\n",
              "      <th>path</th>\n",
              "      <th>word</th>\n",
              "      <th>features</th>\n",
              "    </tr>\n",
              "  </thead>\n",
              "  <tbody>\n",
              "    <tr>\n",
              "      <th>0</th>\n",
              "      <td>8d37d10e7f97ddea2eca9d39a4cf821b4457b041.wav</td>\n",
              "      <td>one</td>\n",
              "      <td>[[-10.160675, -13.804866, 0.9188097, 4.415375,...</td>\n",
              "    </tr>\n",
              "    <tr>\n",
              "      <th>1</th>\n",
              "      <td>9a8f761be3fa0d0a963f5612ba73e68cc0ad11ba.wav</td>\n",
              "      <td>one</td>\n",
              "      <td>[[-10.482644, -13.339122, -3.4994812, -5.29343...</td>\n",
              "    </tr>\n",
              "    <tr>\n",
              "      <th>2</th>\n",
              "      <td>314cdc39f628bc68d216498b2080bcc7a549a45f.wav</td>\n",
              "      <td>one</td>\n",
              "      <td>[[-11.076196, -13.980294, -17.289637, -41.0668...</td>\n",
              "    </tr>\n",
              "    <tr>\n",
              "      <th>3</th>\n",
              "      <td>cc499e63eee4a3bcca48b5b452df04990df83570.wav</td>\n",
              "      <td>one</td>\n",
              "      <td>[[-13.830213, -12.64104, -3.7780707, -10.76490...</td>\n",
              "    </tr>\n",
              "    <tr>\n",
              "      <th>4</th>\n",
              "      <td>38cdcc4d9432ce4a2fe63e0998dbca91e64b954a.wav</td>\n",
              "      <td>one</td>\n",
              "      <td>[[-11.967776, -23.27864, -10.3656, -8.786977, ...</td>\n",
              "    </tr>\n",
              "  </tbody>\n",
              "</table>\n",
              "</div>"
            ],
            "text/plain": [
              "                                           path  ...                                           features\n",
              "0  8d37d10e7f97ddea2eca9d39a4cf821b4457b041.wav  ...  [[-10.160675, -13.804866, 0.9188097, 4.415375,...\n",
              "1  9a8f761be3fa0d0a963f5612ba73e68cc0ad11ba.wav  ...  [[-10.482644, -13.339122, -3.4994812, -5.29343...\n",
              "2  314cdc39f628bc68d216498b2080bcc7a549a45f.wav  ...  [[-11.076196, -13.980294, -17.289637, -41.0668...\n",
              "3  cc499e63eee4a3bcca48b5b452df04990df83570.wav  ...  [[-13.830213, -12.64104, -3.7780707, -10.76490...\n",
              "4  38cdcc4d9432ce4a2fe63e0998dbca91e64b954a.wav  ...  [[-11.967776, -23.27864, -10.3656, -8.786977, ...\n",
              "\n",
              "[5 rows x 3 columns]"
            ]
          },
          "metadata": {
            "tags": []
          },
          "execution_count": 105
        }
      ]
    },
    {
      "cell_type": "code",
      "metadata": {
        "id": "6YMchCXffHjd",
        "outputId": "504d6171-42f6-4ef7-8d5b-f3a6b63190bb",
        "colab": {
          "base_uri": "https://localhost:8080/",
          "height": 33
        }
      },
      "source": [
        "combined[\"features\"][0].shape"
      ],
      "execution_count": 106,
      "outputs": [
        {
          "output_type": "execute_result",
          "data": {
            "text/plain": [
              "(99, 13)"
            ]
          },
          "metadata": {
            "tags": []
          },
          "execution_count": 106
        }
      ]
    },
    {
      "cell_type": "code",
      "metadata": {
        "id": "6JWYlELJf4in"
      },
      "source": [
        "# padding feature to the same length\n",
        "\n",
        "pad_feat = []\n",
        "\n",
        "for i in combined[\"features\"]:\n",
        "    if i.shape != (99,13):\n",
        "        rows = 99 - i.shape[0]\n",
        "        columns = 13 - i.shape[1]\n",
        "        pad_feat.append(np.pad(i, ((0, rows), (0, columns)), 'constant', constant_values = 0))\n",
        "    else:\n",
        "        pad_feat.append(i)\n",
        "    \n",
        "features = np.array(pad_feat)"
      ],
      "execution_count": 107,
      "outputs": []
    },
    {
      "cell_type": "code",
      "metadata": {
        "id": "mtclX1WDay2l"
      },
      "source": [
        "from sklearn.preprocessing import LabelEncoder\n",
        "from keras.utils import to_categorical\n",
        "\n",
        "# Convert features and corresponding classification labels into numpy arrays\n",
        "X = features\n",
        "y = combined['word']\n",
        "\n",
        "# Encode the classification labels\n",
        "le = LabelEncoder()\n",
        "yy = to_categorical(le.fit_transform(y)) "
      ],
      "execution_count": 108,
      "outputs": []
    },
    {
      "cell_type": "code",
      "metadata": {
        "id": "3dW_OPOOMfc-",
        "outputId": "6f423254-2edc-4a45-d8a7-edb07fd772c1",
        "colab": {
          "base_uri": "https://localhost:8080/",
          "height": 33
        }
      },
      "source": [
        "# check if labels and features have the same length\n",
        "\n",
        "len(y) == len(X)"
      ],
      "execution_count": 110,
      "outputs": [
        {
          "output_type": "execute_result",
          "data": {
            "text/plain": [
              "True"
            ]
          },
          "metadata": {
            "tags": []
          },
          "execution_count": 110
        }
      ]
    },
    {
      "cell_type": "code",
      "metadata": {
        "id": "bxkKDjE1MnWh"
      },
      "source": [
        "# split the dataset \n",
        "from sklearn.model_selection import train_test_split \n",
        "\n",
        "x_train, x_test, y_train, y_test = train_test_split(X, yy, test_size=0.15, random_state = 42)"
      ],
      "execution_count": 111,
      "outputs": []
    },
    {
      "cell_type": "code",
      "metadata": {
        "id": "AMZ-R84wewfY",
        "outputId": "001ac16b-1da6-41ad-983a-5bca061bc7fa",
        "colab": {
          "base_uri": "https://localhost:8080/",
          "height": 33
        }
      },
      "source": [
        "x_train.shape"
      ],
      "execution_count": 112,
      "outputs": [
        {
          "output_type": "execute_result",
          "data": {
            "text/plain": [
              "(80599, 99, 13)"
            ]
          },
          "metadata": {
            "tags": []
          },
          "execution_count": 112
        }
      ]
    },
    {
      "cell_type": "code",
      "metadata": {
        "id": "-YU-A8L6Mq_5"
      },
      "source": [
        "from keras.models import Sequential\n",
        "from keras.layers import Dense, Dropout, Activation, Flatten\n",
        "from keras.layers import Convolution2D, Conv2D, MaxPooling2D, GlobalAveragePooling2D\n",
        "from keras.optimizers import Adam\n",
        "from keras.utils import np_utils\n",
        "from sklearn import metrics \n",
        "\n",
        "num_rows = 99\n",
        "num_columns = 13\n",
        "num_channels = 1\n",
        "\n",
        "#Reshape to the correct number of dimensions\n",
        "x_train = x_train.reshape(x_train.shape[0], num_rows, num_columns, num_channels)\n",
        "x_test = x_test.reshape(x_test.shape[0], num_rows, num_columns, num_channels)\n",
        "\n",
        "num_labels = yy.shape[1]\n",
        "filter_size = 2"
      ],
      "execution_count": 113,
      "outputs": []
    },
    {
      "cell_type": "code",
      "metadata": {
        "id": "iKB8E--NMxEE"
      },
      "source": [
        "# Construct model \n",
        "model = Sequential()\n",
        "model.add(Conv2D(filters=64, kernel_size=(5,5), input_shape=(num_rows, num_columns, num_channels), activation='relu'))\n",
        "model.add(Dropout(0.5))\n",
        "model.add(Conv2D(filters=256, kernel_size=(3,3), activation='relu'))\n",
        "model.add(Dropout(0.5))\n",
        "model.add(Conv2D(filters=256, kernel_size=(3,3), activation='relu'))\n",
        "model.add(Dropout(0.5))\n",
        "model.add(Conv2D(filters=512, kernel_size=(3,3), activation='relu'))\n",
        "model.add(Dense(256, activation='relu'))\n",
        "model.add(GlobalAveragePooling2D())\n",
        "\n",
        "model.add(Dense(num_labels, activation='softmax'))\n",
        "\n",
        "# Compile the model\n",
        "optimizer = Adam(lr=0.001)\n",
        "model.compile(loss='categorical_crossentropy', metrics=['accuracy'], optimizer=optimizer)"
      ],
      "execution_count": 128,
      "outputs": []
    },
    {
      "cell_type": "code",
      "metadata": {
        "id": "eTibuCOKM0ev",
        "outputId": "a9eebf93-4866-4874-b1ff-53a4035ad511",
        "colab": {
          "base_uri": "https://localhost:8080/",
          "height": 472
        }
      },
      "source": [
        "# Display model architecture summary \n",
        "model.summary()"
      ],
      "execution_count": 129,
      "outputs": [
        {
          "output_type": "stream",
          "text": [
            "Model: \"sequential_16\"\n",
            "_________________________________________________________________\n",
            "Layer (type)                 Output Shape              Param #   \n",
            "=================================================================\n",
            "conv2d_58 (Conv2D)           (None, 95, 9, 64)         1664      \n",
            "_________________________________________________________________\n",
            "dropout_24 (Dropout)         (None, 95, 9, 64)         0         \n",
            "_________________________________________________________________\n",
            "conv2d_59 (Conv2D)           (None, 93, 7, 256)        147712    \n",
            "_________________________________________________________________\n",
            "dropout_25 (Dropout)         (None, 93, 7, 256)        0         \n",
            "_________________________________________________________________\n",
            "conv2d_60 (Conv2D)           (None, 91, 5, 256)        590080    \n",
            "_________________________________________________________________\n",
            "dropout_26 (Dropout)         (None, 91, 5, 256)        0         \n",
            "_________________________________________________________________\n",
            "conv2d_61 (Conv2D)           (None, 89, 3, 512)        1180160   \n",
            "_________________________________________________________________\n",
            "dense_16 (Dense)             (None, 89, 3, 256)        131328    \n",
            "_________________________________________________________________\n",
            "global_average_pooling2d_9 ( (None, 256)               0         \n",
            "_________________________________________________________________\n",
            "dense_17 (Dense)             (None, 35)                8995      \n",
            "=================================================================\n",
            "Total params: 2,059,939\n",
            "Trainable params: 2,059,939\n",
            "Non-trainable params: 0\n",
            "_________________________________________________________________\n"
          ],
          "name": "stdout"
        }
      ]
    },
    {
      "cell_type": "code",
      "metadata": {
        "id": "4c4EuV8kM3Gn",
        "outputId": "54109c28-4f13-4422-f570-afa07df8b4c0",
        "colab": {
          "base_uri": "https://localhost:8080/",
          "height": 50
        }
      },
      "source": [
        "# Calculate pre-training accuracy \n",
        "score = model.evaluate(x_test, y_test, verbose=1)\n",
        "accuracy = 100*score[1]\n",
        "\n",
        "print(\"Pre-training accuracy: %.4f%%\" % accuracy)"
      ],
      "execution_count": 130,
      "outputs": [
        {
          "output_type": "stream",
          "text": [
            "445/445 [==============================] - 3s 6ms/step - loss: 3.5942 - accuracy: 0.0395\n",
            "Pre-training accuracy: 3.9511%\n"
          ],
          "name": "stdout"
        }
      ]
    },
    {
      "cell_type": "code",
      "metadata": {
        "id": "2tyqQeURM65U",
        "outputId": "382ec687-af9d-46fe-ed03-220942357191",
        "colab": {
          "base_uri": "https://localhost:8080/",
          "height": 720
        }
      },
      "source": [
        "#Train the model\n",
        "\n",
        "from datetime import datetime \n",
        "\n",
        "num_epochs = 20\n",
        "num_batch_size = 128\n",
        "\n",
        "start = datetime.now()\n",
        "\n",
        "model.fit(x_train, y_train, batch_size=num_batch_size, epochs=num_epochs, validation_data=(x_test, y_test),  verbose=1)\n",
        "\n",
        "\n",
        "duration = datetime.now() - start\n",
        "print(\"Training completed in time: \", duration)"
      ],
      "execution_count": 131,
      "outputs": [
        {
          "output_type": "stream",
          "text": [
            "Epoch 1/20\n",
            "  2/630 [..............................] - ETA: 18s - loss: 4.1539 - accuracy: 0.0273WARNING:tensorflow:Callbacks method `on_train_batch_end` is slow compared to the batch time (batch time: 0.0222s vs `on_train_batch_end` time: 0.0362s). Check your callbacks.\n",
            "630/630 [==============================] - 39s 63ms/step - loss: 2.2145 - accuracy: 0.3798 - val_loss: 1.1889 - val_accuracy: 0.6696\n",
            "Epoch 2/20\n",
            "630/630 [==============================] - 39s 62ms/step - loss: 0.9679 - accuracy: 0.7276 - val_loss: 0.7025 - val_accuracy: 0.8028\n",
            "Epoch 3/20\n",
            "630/630 [==============================] - 39s 62ms/step - loss: 0.6781 - accuracy: 0.8076 - val_loss: 0.5390 - val_accuracy: 0.8467\n",
            "Epoch 4/20\n",
            "630/630 [==============================] - 39s 62ms/step - loss: 0.5641 - accuracy: 0.8366 - val_loss: 0.4894 - val_accuracy: 0.8631\n",
            "Epoch 5/20\n",
            "630/630 [==============================] - 39s 62ms/step - loss: 0.4933 - accuracy: 0.8569 - val_loss: 0.4397 - val_accuracy: 0.8749\n",
            "Epoch 6/20\n",
            "630/630 [==============================] - 39s 62ms/step - loss: 0.4477 - accuracy: 0.8692 - val_loss: 0.3940 - val_accuracy: 0.8861\n",
            "Epoch 7/20\n",
            "630/630 [==============================] - 39s 62ms/step - loss: 0.4115 - accuracy: 0.8806 - val_loss: 0.3661 - val_accuracy: 0.8941\n",
            "Epoch 8/20\n",
            "630/630 [==============================] - 39s 62ms/step - loss: 0.3861 - accuracy: 0.8860 - val_loss: 0.3627 - val_accuracy: 0.8969\n",
            "Epoch 9/20\n",
            "630/630 [==============================] - 39s 62ms/step - loss: 0.3645 - accuracy: 0.8924 - val_loss: 0.3807 - val_accuracy: 0.8932\n",
            "Epoch 10/20\n",
            "630/630 [==============================] - 39s 62ms/step - loss: 0.3443 - accuracy: 0.8982 - val_loss: 0.3475 - val_accuracy: 0.9019\n",
            "Epoch 11/20\n",
            "630/630 [==============================] - 39s 62ms/step - loss: 0.3305 - accuracy: 0.9010 - val_loss: 0.3411 - val_accuracy: 0.9032\n",
            "Epoch 12/20\n",
            "630/630 [==============================] - 39s 62ms/step - loss: 0.3169 - accuracy: 0.9050 - val_loss: 0.3425 - val_accuracy: 0.9057\n",
            "Epoch 13/20\n",
            "630/630 [==============================] - 39s 62ms/step - loss: 0.3037 - accuracy: 0.9086 - val_loss: 0.3259 - val_accuracy: 0.9085\n",
            "Epoch 14/20\n",
            "630/630 [==============================] - 39s 62ms/step - loss: 0.2943 - accuracy: 0.9117 - val_loss: 0.3319 - val_accuracy: 0.9105\n",
            "Epoch 15/20\n",
            "630/630 [==============================] - 39s 61ms/step - loss: 0.2866 - accuracy: 0.9136 - val_loss: 0.3438 - val_accuracy: 0.9069\n",
            "Epoch 16/20\n",
            "630/630 [==============================] - 39s 61ms/step - loss: 0.2791 - accuracy: 0.9147 - val_loss: 0.3312 - val_accuracy: 0.9110\n",
            "Epoch 17/20\n",
            "630/630 [==============================] - 39s 61ms/step - loss: 0.2660 - accuracy: 0.9180 - val_loss: 0.3291 - val_accuracy: 0.9109\n",
            "Epoch 18/20\n",
            "630/630 [==============================] - 39s 62ms/step - loss: 0.2631 - accuracy: 0.9189 - val_loss: 0.3394 - val_accuracy: 0.9098\n",
            "Epoch 19/20\n",
            "630/630 [==============================] - 39s 61ms/step - loss: 0.2565 - accuracy: 0.9214 - val_loss: 0.3528 - val_accuracy: 0.9096\n",
            "Epoch 20/20\n",
            "630/630 [==============================] - 39s 61ms/step - loss: 0.2558 - accuracy: 0.9210 - val_loss: 0.3535 - val_accuracy: 0.9084\n",
            "Training completed in time:  0:12:58.847583\n"
          ],
          "name": "stdout"
        }
      ]
    },
    {
      "cell_type": "code",
      "metadata": {
        "id": "a2lR4YA3m4L9",
        "outputId": "71e0f391-3047-44d0-dbab-a7e13ab52aa3",
        "colab": {
          "base_uri": "https://localhost:8080/",
          "height": 33
        }
      },
      "source": [
        "print(model.history.history.keys())"
      ],
      "execution_count": 95,
      "outputs": [
        {
          "output_type": "stream",
          "text": [
            "dict_keys(['loss', 'accuracy', 'val_loss', 'val_accuracy'])\n"
          ],
          "name": "stdout"
        }
      ]
    },
    {
      "cell_type": "code",
      "metadata": {
        "id": "Xhh_3kHHllTr",
        "outputId": "f2092502-4532-44b0-d219-dc3f957afdf1",
        "colab": {
          "base_uri": "https://localhost:8080/",
          "height": 295
        }
      },
      "source": [
        "#Plotting accuracy during training\n",
        "\n",
        "import matplotlib.pyplot as plt\n",
        "plt.plot(model.history.history[\"accuracy\"])\n",
        "plt.plot(model.history.history['val_accuracy'])\n",
        "plt.title('model accuracy')\n",
        "plt.ylabel('accuracy')\n",
        "plt.xlabel('epoch')\n",
        "plt.legend(['train', 'test'], loc='upper left')\n",
        "plt.show()"
      ],
      "execution_count": 132,
      "outputs": [
        {
          "output_type": "display_data",
          "data": {
            "image/png": "[encoded data removed]",
            "text/plain": [
              "<Figure size 432x288 with 1 Axes>"
            ]
          },
          "metadata": {
            "tags": [],
            "needs_background": "light"
          }
        }
      ]
    },
    {
      "cell_type": "code",
      "metadata": {
        "id": "dmKWfPHyM-IN",
        "outputId": "7b146ee8-a591-4c16-e327-e330cab72f2b",
        "colab": {
          "base_uri": "https://localhost:8080/",
          "height": 50
        }
      },
      "source": [
        "# Evaluate the model on the training and validation set\n",
        "score = model.evaluate(x_train, y_train, verbose=0)\n",
        "print(\"Training Accuracy: \", score[1])\n",
        "\n",
        "score = model.evaluate(x_test, y_test, verbose=0)\n",
        "print(\"Testing Accuracy: \", score[1])"
      ],
      "execution_count": 133,
      "outputs": [
        {
          "output_type": "stream",
          "text": [
            "Training Accuracy:  0.9584113955497742\n",
            "Testing Accuracy:  0.9083942770957947\n"
          ],
          "name": "stdout"
        }
      ]
    },
    {
      "cell_type": "code",
      "metadata": {
        "id": "rDfdRjyPjpdJ"
      },
      "source": [
        "Test_data =pd.merge(test,data, on=\"path\")"
      ],
      "execution_count": 134,
      "outputs": []
    },
    {
      "cell_type": "code",
      "metadata": {
        "id": "WzrtUfwakPIY"
      },
      "source": [
        "pad_feat = []\n",
        "\n",
        "for i in Test_data[\"features\"]:\n",
        "    if i.shape != (99,13):\n",
        "        rows = 99 - i.shape[0]\n",
        "        columns = 13 - i.shape[1]\n",
        "        pad_feat.append(np.pad(i, ((0, rows), (0, columns)), 'constant', constant_values = 0))\n",
        "    else:\n",
        "        pad_feat.append(i)\n",
        "    \n",
        "test_data = np.array(pad_feat)"
      ],
      "execution_count": 135,
      "outputs": []
    },
    {
      "cell_type": "code",
      "metadata": {
        "id": "ktI2Y8sFNI_q"
      },
      "source": [
        "# Do the predictions for the test data\n",
        "\n",
        "test_data=test_data.reshape(test_data.shape[0], num_rows, num_columns, num_channels)\n",
        "\n",
        "predictions=model.predict(test_data)\n",
        "predictions=np.argmax(predictions,axis=1)\n",
        "predictions=le.inverse_transform(predictions)"
      ],
      "execution_count": 136,
      "outputs": []
    },
    {
      "cell_type": "code",
      "metadata": {
        "id": "lEg4xOgiNMxM"
      },
      "source": [
        "# Save the predictions in the appropriate format\n",
        "\n",
        "np.savetxt('/content/drive/My Drive/ML/predictions.csv',predictions, fmt='%s')\n",
        "word = pd.read_csv(\"/content/drive/My Drive/ML/predictions.csv\", header = None)\n",
        "test['word'] = word\n",
        "pd.DataFrame.to_csv(test, '/content/drive/My Drive/ML/result.csv', index = False)"
      ],
      "execution_count": null,
      "outputs": []
    }
  ]
}