{
  "nbformat": 4,
  "nbformat_minor": 0,
  "metadata": {
    "colab": {
      "name": "Sleep_stage_recognition.ipynb",
      "provenance": []
    },
    "kernelspec": {
      "name": "python3",
      "display_name": "Python 3"
    },
    "accelerator": "GPU"
  },
  "cells": [
    {
      "cell_type": "code",
      "metadata": {
        "id": "ztFG4EcIwYCE"
      },
      "source": [
        "import pickle as pk\n",
        "import numpy as np\n",
        "import matplotlib.pyplot as plt"
      ],
      "execution_count": 1,
      "outputs": []
    },
    {
      "cell_type": "code",
      "metadata": {
        "id": "MMTOpy1dxD8i"
      },
      "source": [
        "#load the spectrograms\n",
        "data_spec = np.load(\"/content/drive/My Drive/Colab Notebooks/Cópia de Copy of Data_Spectrograms.pkl\", allow_pickle = True)\n",
        "x, y = data_spec"
      ],
      "execution_count": 2,
      "outputs": []
    },
    {
      "cell_type": "code",
      "metadata": {
        "id": "AMmr39RnxKoY"
      },
      "source": [
        "\n",
        "#split into testing and testing set\n",
        "from sklearn.model_selection import train_test_split\n",
        "X_train, X_test, y_train, y_test = train_test_split(x, y, test_size=0.15, random_state=42)\n",
        "\n"
      ],
      "execution_count": 3,
      "outputs": []
    },
    {
      "cell_type": "code",
      "metadata": {
        "id": "9agNxKvuxM22",
        "outputId": "f3e82236-4260-4da3-8063-6ea9e95b6506",
        "colab": {
          "base_uri": "https://localhost:8080/",
          "height": 330
        }
      },
      "source": [
        "#check distribution of classes\n",
        "plt.hist(y_train)"
      ],
      "execution_count": 4,
      "outputs": [
        {
          "output_type": "execute_result",
          "data": {
            "text/plain": [
              "(array([2569.,    0., 2198.,    0., 2535.,    0., 2153.,    0., 1954.,\n",
              "        1659.]),\n",
              " array([0. , 0.5, 1. , 1.5, 2. , 2.5, 3. , 3.5, 4. , 4.5, 5. ]),\n",
              " <a list of 10 Patch objects>)"
            ]
          },
          "metadata": {
            "tags": []
          },
          "execution_count": 4
        },
        {
          "output_type": "display_data",
          "data": {
            "image/png": "[encoded data removed]",
            "text/plain": [
              "<Figure size 432x288 with 1 Axes>"
            ]
          },
          "metadata": {
            "tags": [],
            "needs_background": "light"
          }
        }
      ]
    },
    {
      "cell_type": "code",
      "metadata": {
        "id": "sD7b6PI9xOOJ",
        "outputId": "88612dd9-e8f3-424e-d8ca-74c5d763085d",
        "colab": {
          "base_uri": "https://localhost:8080/",
          "height": 135
        }
      },
      "source": [
        "#oversample the minority class using ADASYN\n",
        "from imblearn.over_sampling import SMOTE , ADASYN\n",
        "from imblearn.under_sampling import RandomUnderSampler\n",
        "\n",
        "# These tools only work with 2D data, needed to reshape before using and reshaping again after it\n",
        "X_train=X_train.reshape(X_train.shape[0],6000)\n",
        "\n",
        "# create synthetic samples for the minority class\n",
        "sm = ADASYN(sampling_strategy='minority')         \n",
        "X_train, y_train = sm.fit_sample(X_train, y_train)"
      ],
      "execution_count": 5,
      "outputs": [
        {
          "output_type": "stream",
          "text": [
            "/usr/local/lib/python3.6/dist-packages/sklearn/externals/six.py:31: FutureWarning: The module is deprecated in version 0.21 and will be removed in version 0.23 since we've dropped support for Python 2.7. Please rely on the official version of six (https://pypi.org/project/six/).\n",
            "  \"(https://pypi.org/project/six/).\", FutureWarning)\n",
            "/usr/local/lib/python3.6/dist-packages/sklearn/utils/deprecation.py:144: FutureWarning: The sklearn.neighbors.base module is  deprecated in version 0.22 and will be removed in version 0.24. The corresponding classes / functions should instead be imported from sklearn.neighbors. Anything that cannot be imported from sklearn.neighbors is now part of the private API.\n",
            "  warnings.warn(message, FutureWarning)\n",
            "/usr/local/lib/python3.6/dist-packages/sklearn/utils/deprecation.py:87: FutureWarning: Function safe_indexing is deprecated; safe_indexing is deprecated in version 0.22 and will be removed in version 0.24.\n",
            "  warnings.warn(msg, category=FutureWarning)\n"
          ],
          "name": "stderr"
        }
      ]
    },
    {
      "cell_type": "code",
      "metadata": {
        "id": "7MoMCyrmxRP-",
        "outputId": "c0d61fa6-acfd-4f09-de2b-b40b768dc3ab",
        "colab": {
          "base_uri": "https://localhost:8080/",
          "height": 297
        }
      },
      "source": [
        "\n",
        "#check the new distribution of y_train, as well as the distribution of y_test\n",
        "plt.hist(y_train)\n",
        "print(y_train.shape)\n",
        "plt.hist(y_test)\n",
        "print(y_test.shape)"
      ],
      "execution_count": 6,
      "outputs": [
        {
          "output_type": "stream",
          "text": [
            "(14045,)\n",
            "(2307,)\n"
          ],
          "name": "stdout"
        },
        {
          "output_type": "display_data",
          "data": {
            "image/png": "[encoded data removed]",
            "text/plain": [
              "<Figure size 432x288 with 1 Axes>"
            ]
          },
          "metadata": {
            "tags": [],
            "needs_background": "light"
          }
        }
      ]
    },
    {
      "cell_type": "code",
      "metadata": {
        "id": "jLJ2XAOJxYYl"
      },
      "source": [
        "#reshape the spectrograms to fit the model architecture\n",
        "X_train = X_train.reshape(X_train.shape[0], 30, 100, 2)\n",
        "X_test = X_test.reshape(X_test.shape[0], 30, 100, 2)\n"
      ],
      "execution_count": 7,
      "outputs": []
    },
    {
      "cell_type": "code",
      "metadata": {
        "id": "21vCd_92xaA2"
      },
      "source": [
        "#use to_categorical to create categorical vectors out of the integer targets\n",
        "from keras.utils import to_categorical\n",
        "y_train = to_categorical(y_train)\n",
        "y_test = to_categorical(y_test)"
      ],
      "execution_count": 8,
      "outputs": []
    },
    {
      "cell_type": "code",
      "metadata": {
        "id": "ZjRSmLfxxbOM"
      },
      "source": [
        "#create and compile the model\n",
        "from keras.layers import Dense, GRU, Input, LSTM, Bidirectional, Dropout, Activation, Conv1D, Conv2D, concatenate, SimpleRNN\n",
        "from keras.layers import GlobalMaxPool1D, GlobalAveragePooling1D, MaxPooling2D, AveragePooling1D, Flatten, Add, Reshape, RepeatVector\n",
        "from keras.models import Model, Sequential\n",
        "from keras import initializers, regularizers, constraints, optimizers, layers\n",
        "from keras.callbacks import EarlyStopping\n",
        "from keras.optimizers import Adam\n",
        "from keras import backend as K\n",
        "from keras import metrics"
      ],
      "execution_count": 9,
      "outputs": []
    },
    {
      "cell_type": "code",
      "metadata": {
        "id": "JtY4K5TSxdk-"
      },
      "source": [
        "def create_model(n_cnn_dense=64, drop=True, input_dim=2, timesteps=3000, fs=100, num_classes=6):\n",
        "    \n",
        "    input_dim = input_dim\n",
        "    timesteps = timesteps   \n",
        "    inp = Input(shape=(timesteps, input_dim))\n",
        "    inp2 = Input(shape=(30,100,2))\n",
        "    fs = fs\n",
        "    num_classes = num_classes\n",
        "    #84,57\n",
        "    x = (Conv2D(filters=32, kernel_size=(5,5), activation='tanh', padding='same', kernel_initializer = 'he_normal', kernel_regularizer = regularizers.l2(0.01)))(inp2)\n",
        "    x = (Conv2D(filters=32, kernel_size=(3,3), activation='tanh',padding='valid'))(x)\n",
        "    x = (Conv2D(filters=32, kernel_size=(3,3), activation='tanh',padding='valid'))(x)\n",
        "    x = MaxPooling2D(pool_size=(2,2), strides=1, padding='same')(x)\n",
        "    if drop:\n",
        "        x = Dropout(0.2)(x)\n",
        "    \n",
        "    y = Conv2D(filters=64, kernel_size=(100,100), strides=1,  activation='tanh', padding='same', kernel_initializer = 'he_normal', kernel_regularizer = regularizers.l2(0.01))(inp2)\n",
        "    y = (Conv2D(filters=32, kernel_size=(3,3), activation='tanh',padding='same'))(y)\n",
        "    y = (Conv2D(filters=32, kernel_size=(3,3), activation='tanh',padding='same'))(y)\n",
        "    y = (Conv2D(filters=32, kernel_size=(3,3), activation='tanh',padding='valid'))(y)\n",
        "    y = (Conv2D(filters=128, kernel_size=(3,3), activation='tanh',padding='valid'))(y)\n",
        "    y = (Conv2D(filters=32, kernel_size=(3,3), activation='tanh',padding='same'))(y)\n",
        "    \n",
        "    xy = concatenate([x, y], axis=3)        \n",
        "    output = Dense(n_cnn_dense, activation='relu')(xy)\n",
        "    pool_size = int(output.shape[1]) // 4\n",
        "    output = MaxPooling2D(pool_size=pool_size, strides=pool_size, padding='valid')(output)\n",
        "    output = Flatten()(output)\n",
        "    output = RepeatVector(2)(output)\n",
        "    output = SimpleRNN(100,activation='relu', kernel_initializer='glorot_uniform')(output)     \n",
        "    output = Dense(num_classes, activation='softmax')(output)\n",
        "    \n",
        "    model = Model(inputs=inp2, outputs=output)\n",
        "    model.compile(loss='categorical_crossentropy', optimizer='adam', metrics=['accuracy'])\n",
        "    return model"
      ],
      "execution_count": 10,
      "outputs": []
    },
    {
      "cell_type": "code",
      "metadata": {
        "id": "-l9BMLw1xfgk",
        "outputId": "8d0b4776-8fd7-49f3-8bd1-b808eaa754c3",
        "colab": {
          "base_uri": "https://localhost:8080/",
          "height": 781
        }
      },
      "source": [
        "# Remove warnings\n",
        "import logging\n",
        "logging.getLogger('tensorflow').disabled = True \n",
        "\n",
        "#create model and model summary\n",
        "model = create_model()\n",
        "model.summary()"
      ],
      "execution_count": 11,
      "outputs": [
        {
          "output_type": "stream",
          "text": [
            "Model: \"functional_1\"\n",
            "__________________________________________________________________________________________________\n",
            "Layer (type)                    Output Shape         Param #     Connected to                     \n",
            "==================================================================================================\n",
            "input_2 (InputLayer)            [(None, 30, 100, 2)] 0                                            \n",
            "__________________________________________________________________________________________________\n",
            "conv2d_3 (Conv2D)               (None, 30, 100, 64)  1280064     input_2[0][0]                    \n",
            "__________________________________________________________________________________________________\n",
            "conv2d (Conv2D)                 (None, 30, 100, 32)  1632        input_2[0][0]                    \n",
            "__________________________________________________________________________________________________\n",
            "conv2d_4 (Conv2D)               (None, 30, 100, 32)  18464       conv2d_3[0][0]                   \n",
            "__________________________________________________________________________________________________\n",
            "conv2d_1 (Conv2D)               (None, 28, 98, 32)   9248        conv2d[0][0]                     \n",
            "__________________________________________________________________________________________________\n",
            "conv2d_5 (Conv2D)               (None, 30, 100, 32)  9248        conv2d_4[0][0]                   \n",
            "__________________________________________________________________________________________________\n",
            "conv2d_2 (Conv2D)               (None, 26, 96, 32)   9248        conv2d_1[0][0]                   \n",
            "__________________________________________________________________________________________________\n",
            "conv2d_6 (Conv2D)               (None, 28, 98, 32)   9248        conv2d_5[0][0]                   \n",
            "__________________________________________________________________________________________________\n",
            "max_pooling2d (MaxPooling2D)    (None, 26, 96, 32)   0           conv2d_2[0][0]                   \n",
            "__________________________________________________________________________________________________\n",
            "conv2d_7 (Conv2D)               (None, 26, 96, 128)  36992       conv2d_6[0][0]                   \n",
            "__________________________________________________________________________________________________\n",
            "dropout (Dropout)               (None, 26, 96, 32)   0           max_pooling2d[0][0]              \n",
            "__________________________________________________________________________________________________\n",
            "conv2d_8 (Conv2D)               (None, 26, 96, 32)   36896       conv2d_7[0][0]                   \n",
            "__________________________________________________________________________________________________\n",
            "concatenate (Concatenate)       (None, 26, 96, 64)   0           dropout[0][0]                    \n",
            "                                                                 conv2d_8[0][0]                   \n",
            "__________________________________________________________________________________________________\n",
            "dense (Dense)                   (None, 26, 96, 64)   4160        concatenate[0][0]                \n",
            "__________________________________________________________________________________________________\n",
            "max_pooling2d_1 (MaxPooling2D)  (None, 4, 16, 64)    0           dense[0][0]                      \n",
            "__________________________________________________________________________________________________\n",
            "flatten (Flatten)               (None, 4096)         0           max_pooling2d_1[0][0]            \n",
            "__________________________________________________________________________________________________\n",
            "repeat_vector (RepeatVector)    (None, 2, 4096)      0           flatten[0][0]                    \n",
            "__________________________________________________________________________________________________\n",
            "simple_rnn (SimpleRNN)          (None, 100)          419700      repeat_vector[0][0]              \n",
            "__________________________________________________________________________________________________\n",
            "dense_1 (Dense)                 (None, 6)            606         simple_rnn[0][0]                 \n",
            "==================================================================================================\n",
            "Total params: 1,835,506\n",
            "Trainable params: 1,835,506\n",
            "Non-trainable params: 0\n",
            "__________________________________________________________________________________________________\n"
          ],
          "name": "stdout"
        }
      ]
    },
    {
      "cell_type": "code",
      "metadata": {
        "id": "T-pK3cHtxlbU",
        "outputId": "43efbae9-ed11-4e07-ac0a-8b4f1ebf25eb",
        "colab": {
          "base_uri": "https://localhost:8080/",
          "height": 1000
        }
      },
      "source": [
        "#fit the model on the train data, validate on test data\n",
        "#use ModelCheckpoint to save the best performing model on validation accuracy\n",
        "from keras.callbacks import ModelCheckpoint\n",
        "\n",
        "mc = ModelCheckpoint('best_model.h5', monitor='val_acc', mode='max', verbose=1, save_best_only=True) \n",
        "\n",
        "model.fit(X_train, y_train,  validation_data=(X_test,y_test), verbose=1, batch_size=256, epochs= 50,callbacks= [mc])\n",
        "\n",
        "\n",
        "# load the saved model\n",
        "from keras.models import load_model\n",
        "saved_model = load_model('best_model.h5')"
      ],
      "execution_count": 12,
      "outputs": [
        {
          "output_type": "stream",
          "text": [
            "Epoch 1/50\n",
            "55/55 [==============================] - 98s 2s/step - loss: 2.5514 - accuracy: 0.4873 - val_loss: 1.8886 - val_accuracy: 0.6121\n",
            "Epoch 2/50\n",
            "55/55 [==============================] - 97s 2s/step - loss: 1.6199 - accuracy: 0.6922 - val_loss: 1.4891 - val_accuracy: 0.7243\n",
            "Epoch 3/50\n",
            "55/55 [==============================] - 96s 2s/step - loss: 1.4014 - accuracy: 0.7350 - val_loss: 1.3250 - val_accuracy: 0.7646\n",
            "Epoch 4/50\n",
            "55/55 [==============================] - 96s 2s/step - loss: 1.2819 - accuracy: 0.7598 - val_loss: 1.2461 - val_accuracy: 0.7698\n",
            "Epoch 5/50\n",
            "55/55 [==============================] - 96s 2s/step - loss: 1.2197 - accuracy: 0.7726 - val_loss: 1.1989 - val_accuracy: 0.7824\n",
            "Epoch 6/50\n",
            "55/55 [==============================] - 96s 2s/step - loss: 1.1705 - accuracy: 0.7818 - val_loss: 1.1960 - val_accuracy: 0.7750\n",
            "Epoch 7/50\n",
            "55/55 [==============================] - 96s 2s/step - loss: 1.1260 - accuracy: 0.7974 - val_loss: 1.1601 - val_accuracy: 0.7893\n",
            "Epoch 8/50\n",
            "55/55 [==============================] - 96s 2s/step - loss: 1.1054 - accuracy: 0.8084 - val_loss: 1.1369 - val_accuracy: 0.8010\n",
            "Epoch 9/50\n",
            "55/55 [==============================] - 96s 2s/step - loss: 1.1023 - accuracy: 0.8093 - val_loss: 1.1651 - val_accuracy: 0.7928\n",
            "Epoch 10/50\n",
            "55/55 [==============================] - 96s 2s/step - loss: 1.1367 - accuracy: 0.7985 - val_loss: 1.2124 - val_accuracy: 0.7581\n",
            "Epoch 11/50\n",
            "55/55 [==============================] - 96s 2s/step - loss: 1.1028 - accuracy: 0.8189 - val_loss: 1.2412 - val_accuracy: 0.7508\n",
            "Epoch 12/50\n",
            "55/55 [==============================] - 96s 2s/step - loss: 1.0897 - accuracy: 0.8212 - val_loss: 1.1380 - val_accuracy: 0.8097\n",
            "Epoch 13/50\n",
            "55/55 [==============================] - 96s 2s/step - loss: 1.0691 - accuracy: 0.8334 - val_loss: 1.1373 - val_accuracy: 0.8166\n",
            "Epoch 14/50\n",
            "55/55 [==============================] - 96s 2s/step - loss: 1.0683 - accuracy: 0.8388 - val_loss: 1.2300 - val_accuracy: 0.7750\n",
            "Epoch 15/50\n",
            "55/55 [==============================] - 96s 2s/step - loss: 1.0984 - accuracy: 0.8287 - val_loss: 1.1626 - val_accuracy: 0.8110\n",
            "Epoch 16/50\n",
            "55/55 [==============================] - 96s 2s/step - loss: 1.0697 - accuracy: 0.8501 - val_loss: 1.2325 - val_accuracy: 0.7768\n",
            "Epoch 17/50\n",
            "55/55 [==============================] - 96s 2s/step - loss: 1.0788 - accuracy: 0.8430 - val_loss: 1.2695 - val_accuracy: 0.7633\n",
            "Epoch 18/50\n",
            "55/55 [==============================] - 96s 2s/step - loss: 1.0801 - accuracy: 0.8386 - val_loss: 1.1826 - val_accuracy: 0.7958\n",
            "Epoch 19/50\n",
            "55/55 [==============================] - 96s 2s/step - loss: 1.0382 - accuracy: 0.8521 - val_loss: 1.1542 - val_accuracy: 0.8054\n",
            "Epoch 20/50\n",
            "55/55 [==============================] - 96s 2s/step - loss: 1.0496 - accuracy: 0.8518 - val_loss: 1.1435 - val_accuracy: 0.8171\n",
            "Epoch 21/50\n",
            "55/55 [==============================] - 96s 2s/step - loss: 1.0242 - accuracy: 0.8630 - val_loss: 1.1582 - val_accuracy: 0.7963\n",
            "Epoch 22/50\n",
            "55/55 [==============================] - 96s 2s/step - loss: 1.0405 - accuracy: 0.8637 - val_loss: 1.1328 - val_accuracy: 0.8275\n",
            "Epoch 23/50\n",
            "55/55 [==============================] - 96s 2s/step - loss: 1.0476 - accuracy: 0.8555 - val_loss: 1.2215 - val_accuracy: 0.7906\n",
            "Epoch 24/50\n",
            "55/55 [==============================] - 96s 2s/step - loss: 1.0329 - accuracy: 0.8733 - val_loss: 1.1855 - val_accuracy: 0.8054\n",
            "Epoch 25/50\n",
            "55/55 [==============================] - 96s 2s/step - loss: 1.0047 - accuracy: 0.8824 - val_loss: 1.1743 - val_accuracy: 0.8292\n",
            "Epoch 26/50\n",
            "55/55 [==============================] - 96s 2s/step - loss: 1.0210 - accuracy: 0.8826 - val_loss: 1.1981 - val_accuracy: 0.8123\n",
            "Epoch 27/50\n",
            "55/55 [==============================] - 96s 2s/step - loss: 1.0672 - accuracy: 0.8783 - val_loss: 1.2156 - val_accuracy: 0.8218\n",
            "Epoch 28/50\n",
            "55/55 [==============================] - 96s 2s/step - loss: 1.0321 - accuracy: 0.8948 - val_loss: 1.2157 - val_accuracy: 0.8262\n",
            "Epoch 29/50\n",
            "55/55 [==============================] - 96s 2s/step - loss: 1.0364 - accuracy: 0.8888 - val_loss: 1.2051 - val_accuracy: 0.8292\n",
            "Epoch 30/50\n",
            "55/55 [==============================] - 96s 2s/step - loss: 1.0336 - accuracy: 0.8958 - val_loss: 1.2580 - val_accuracy: 0.8084\n",
            "Epoch 31/50\n",
            "55/55 [==============================] - 96s 2s/step - loss: 1.0070 - accuracy: 0.9049 - val_loss: 1.2628 - val_accuracy: 0.8179\n",
            "Epoch 32/50\n",
            "55/55 [==============================] - 96s 2s/step - loss: 1.0579 - accuracy: 0.8935 - val_loss: 1.3979 - val_accuracy: 0.7811\n",
            "Epoch 33/50\n",
            "55/55 [==============================] - 96s 2s/step - loss: 1.0460 - accuracy: 0.9045 - val_loss: 1.2589 - val_accuracy: 0.8140\n",
            "Epoch 34/50\n",
            "55/55 [==============================] - 96s 2s/step - loss: 0.9853 - accuracy: 0.9102 - val_loss: 1.2014 - val_accuracy: 0.8270\n",
            "Epoch 35/50\n",
            "55/55 [==============================] - 96s 2s/step - loss: 0.9691 - accuracy: 0.9151 - val_loss: 1.2694 - val_accuracy: 0.8101\n",
            "Epoch 36/50\n",
            "55/55 [==============================] - 96s 2s/step - loss: 1.0246 - accuracy: 0.9036 - val_loss: 1.2641 - val_accuracy: 0.8175\n",
            "Epoch 37/50\n",
            "55/55 [==============================] - 96s 2s/step - loss: 0.9838 - accuracy: 0.9231 - val_loss: 1.2733 - val_accuracy: 0.8201\n",
            "Epoch 38/50\n",
            "55/55 [==============================] - 96s 2s/step - loss: 1.0096 - accuracy: 0.9146 - val_loss: 1.3021 - val_accuracy: 0.8218\n",
            "Epoch 39/50\n",
            "55/55 [==============================] - 96s 2s/step - loss: 0.9801 - accuracy: 0.9262 - val_loss: 1.3406 - val_accuracy: 0.7941\n",
            "Epoch 40/50\n",
            "55/55 [==============================] - 96s 2s/step - loss: 0.9675 - accuracy: 0.9245 - val_loss: 1.2767 - val_accuracy: 0.8136\n",
            "Epoch 41/50\n",
            "55/55 [==============================] - 96s 2s/step - loss: 0.9939 - accuracy: 0.9158 - val_loss: 1.3702 - val_accuracy: 0.7863\n",
            "Epoch 42/50\n",
            "55/55 [==============================] - 96s 2s/step - loss: 0.9727 - accuracy: 0.9262 - val_loss: 1.2987 - val_accuracy: 0.8119\n",
            "Epoch 43/50\n",
            "55/55 [==============================] - 96s 2s/step - loss: 0.9874 - accuracy: 0.9190 - val_loss: 1.4032 - val_accuracy: 0.8002\n",
            "Epoch 44/50\n",
            "55/55 [==============================] - 96s 2s/step - loss: 0.9816 - accuracy: 0.9312 - val_loss: 1.3141 - val_accuracy: 0.8227\n",
            "Epoch 45/50\n",
            "55/55 [==============================] - 96s 2s/step - loss: 0.9384 - accuracy: 0.9434 - val_loss: 1.2774 - val_accuracy: 0.8227\n",
            "Epoch 46/50\n",
            "55/55 [==============================] - 96s 2s/step - loss: 0.9453 - accuracy: 0.9351 - val_loss: 1.3188 - val_accuracy: 0.8049\n",
            "Epoch 47/50\n",
            "55/55 [==============================] - 96s 2s/step - loss: 0.9201 - accuracy: 0.9443 - val_loss: 1.2945 - val_accuracy: 0.8184\n",
            "Epoch 48/50\n",
            "55/55 [==============================] - 96s 2s/step - loss: 0.9112 - accuracy: 0.9447 - val_loss: 1.3137 - val_accuracy: 0.8067\n",
            "Epoch 49/50\n",
            "55/55 [==============================] - 96s 2s/step - loss: 0.9178 - accuracy: 0.9434 - val_loss: 1.3260 - val_accuracy: 0.8236\n",
            "Epoch 50/50\n",
            "55/55 [==============================] - 96s 2s/step - loss: 0.9156 - accuracy: 0.9495 - val_loss: 1.3095 - val_accuracy: 0.8231\n"
          ],
          "name": "stdout"
        },
        {
          "output_type": "error",
          "ename": "OSError",
          "evalue": "ignored",
          "traceback": [
            "\u001b[0;31m---------------------------------------------------------------------------\u001b[0m",
            "\u001b[0;31mOSError\u001b[0m                                   Traceback (most recent call last)",
            "\u001b[0;32m<ipython-input-12-108f4dd63e79>\u001b[0m in \u001b[0;36m<module>\u001b[0;34m()\u001b[0m\n\u001b[1;32m     10\u001b[0m \u001b[0;31m# load the saved model\u001b[0m\u001b[0;34m\u001b[0m\u001b[0;34m\u001b[0m\u001b[0;34m\u001b[0m\u001b[0m\n\u001b[1;32m     11\u001b[0m \u001b[0;32mfrom\u001b[0m \u001b[0mkeras\u001b[0m\u001b[0;34m.\u001b[0m\u001b[0mmodels\u001b[0m \u001b[0;32mimport\u001b[0m \u001b[0mload_model\u001b[0m\u001b[0;34m\u001b[0m\u001b[0;34m\u001b[0m\u001b[0m\n\u001b[0;32m---> 12\u001b[0;31m \u001b[0msaved_model\u001b[0m \u001b[0;34m=\u001b[0m \u001b[0mload_model\u001b[0m\u001b[0;34m(\u001b[0m\u001b[0;34m'best_model.h5'\u001b[0m\u001b[0;34m)\u001b[0m\u001b[0;34m\u001b[0m\u001b[0;34m\u001b[0m\u001b[0m\n\u001b[0m",
            "\u001b[0;32m/usr/local/lib/python3.6/dist-packages/tensorflow/python/keras/saving/save.py\u001b[0m in \u001b[0;36mload_model\u001b[0;34m(filepath, custom_objects, compile, options)\u001b[0m\n\u001b[1;32m    184\u001b[0m     \u001b[0mfilepath\u001b[0m \u001b[0;34m=\u001b[0m \u001b[0mpath_to_string\u001b[0m\u001b[0;34m(\u001b[0m\u001b[0mfilepath\u001b[0m\u001b[0;34m)\u001b[0m\u001b[0;34m\u001b[0m\u001b[0;34m\u001b[0m\u001b[0m\n\u001b[1;32m    185\u001b[0m     \u001b[0;32mif\u001b[0m \u001b[0misinstance\u001b[0m\u001b[0;34m(\u001b[0m\u001b[0mfilepath\u001b[0m\u001b[0;34m,\u001b[0m \u001b[0msix\u001b[0m\u001b[0;34m.\u001b[0m\u001b[0mstring_types\u001b[0m\u001b[0;34m)\u001b[0m\u001b[0;34m:\u001b[0m\u001b[0;34m\u001b[0m\u001b[0;34m\u001b[0m\u001b[0m\n\u001b[0;32m--> 186\u001b[0;31m       \u001b[0mloader_impl\u001b[0m\u001b[0;34m.\u001b[0m\u001b[0mparse_saved_model\u001b[0m\u001b[0;34m(\u001b[0m\u001b[0mfilepath\u001b[0m\u001b[0;34m)\u001b[0m\u001b[0;34m\u001b[0m\u001b[0;34m\u001b[0m\u001b[0m\n\u001b[0m\u001b[1;32m    187\u001b[0m       \u001b[0;32mreturn\u001b[0m \u001b[0msaved_model_load\u001b[0m\u001b[0;34m.\u001b[0m\u001b[0mload\u001b[0m\u001b[0;34m(\u001b[0m\u001b[0mfilepath\u001b[0m\u001b[0;34m,\u001b[0m \u001b[0mcompile\u001b[0m\u001b[0;34m,\u001b[0m \u001b[0moptions\u001b[0m\u001b[0;34m)\u001b[0m\u001b[0;34m\u001b[0m\u001b[0;34m\u001b[0m\u001b[0m\n\u001b[1;32m    188\u001b[0m \u001b[0;34m\u001b[0m\u001b[0m\n",
            "\u001b[0;32m/usr/local/lib/python3.6/dist-packages/tensorflow/python/saved_model/loader_impl.py\u001b[0m in \u001b[0;36mparse_saved_model\u001b[0;34m(export_dir)\u001b[0m\n\u001b[1;32m    111\u001b[0m                   (export_dir,\n\u001b[1;32m    112\u001b[0m                    \u001b[0mconstants\u001b[0m\u001b[0;34m.\u001b[0m\u001b[0mSAVED_MODEL_FILENAME_PBTXT\u001b[0m\u001b[0;34m,\u001b[0m\u001b[0;34m\u001b[0m\u001b[0;34m\u001b[0m\u001b[0m\n\u001b[0;32m--> 113\u001b[0;31m                    constants.SAVED_MODEL_FILENAME_PB))\n\u001b[0m\u001b[1;32m    114\u001b[0m \u001b[0;34m\u001b[0m\u001b[0m\n\u001b[1;32m    115\u001b[0m \u001b[0;34m\u001b[0m\u001b[0m\n",
            "\u001b[0;31mOSError\u001b[0m: SavedModel file does not exist at: best_model.h5/{saved_model.pbtxt|saved_model.pb}"
          ]
        }
      ]
    },
    {
      "cell_type": "code",
      "metadata": {
        "id": "xyne4ibj1oH2",
        "outputId": "bbfeff5f-a3f2-4727-e245-0853809721ac",
        "colab": {
          "base_uri": "https://localhost:8080/",
          "height": 295
        }
      },
      "source": [
        "#Plotting accuracy during training\n",
        "\n",
        "import matplotlib.pyplot as plt\n",
        "plt.plot(model.history.history[\"accuracy\"])\n",
        "plt.plot(model.history.history['val_accuracy'])\n",
        "plt.title('model accuracy')\n",
        "plt.ylabel('accuracy')\n",
        "plt.xlabel('epoch')\n",
        "plt.legend(['train', 'test'], loc='upper left')\n",
        "plt.show()"
      ],
      "execution_count": 13,
      "outputs": [
        {
          "output_type": "display_data",
          "data": {
            "image/png": "[encoded data removed]",
            "text/plain": [
              "<Figure size 432x288 with 1 Axes>"
            ]
          },
          "metadata": {
            "tags": [],
            "needs_background": "light"
          }
        }
      ]
    },
    {
      "cell_type": "code",
      "metadata": {
        "id": "s5yL4XT9xoCE",
        "outputId": "dca4c8c4-c3ef-499a-fe16-db18f3535547",
        "colab": {
          "base_uri": "https://localhost:8080/",
          "height": 82
        }
      },
      "source": [
        "# get training and testing accuracy\n",
        "score = model.evaluate(X_train, y_train, verbose=1)\n",
        "print(\"Training Accuracy: \", score[1])\n",
        "score = model.evaluate(X_test, y_test, verbose=1)\n",
        "print(\"Testing Accuracy: \", score[1])"
      ],
      "execution_count": 15,
      "outputs": [
        {
          "output_type": "stream",
          "text": [
            "439/439 [==============================] - 13s 30ms/step - loss: 0.8748 - accuracy: 0.9657\n",
            "Training Accuracy:  0.9656817317008972\n",
            "73/73 [==============================] - 2s 29ms/step - loss: 1.3095 - accuracy: 0.8231\n",
            "Testing Accuracy:  0.8231469392776489\n"
          ],
          "name": "stdout"
        }
      ]
    },
    {
      "cell_type": "code",
      "metadata": {
        "id": "v0uceUBAxqEo"
      },
      "source": [
        "#load testing set and reshape to right dimensions\n",
        "test = np.load(\"/content/drive/My Drive/Deep Learning/Test_Spectrograms_no_labels.pkl\", allow_pickle = True)\n",
        "test = np.array(test)\n",
        "test = test.reshape(1754, 30, 100, 2)"
      ],
      "execution_count": null,
      "outputs": []
    },
    {
      "cell_type": "code",
      "metadata": {
        "id": "DclebAL0xrew"
      },
      "source": [
        "#generate predictions using our saved model\n",
        "#use argmax to turn categorical vectors back into integer predictions\n",
        "#save to a .txt file\n",
        "predictions = saved_model.predict(test)\n",
        "predictions = np.argmax(predictions, axis = 1)\n",
        "np.savetxt(\"predictions19.txt\", predictions, fmt='%i', encoding = None)\n"
      ],
      "execution_count": null,
      "outputs": []
    }
  ]
}